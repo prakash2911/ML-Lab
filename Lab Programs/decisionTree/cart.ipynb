{
 "cells": [
  {
   "cell_type": "code",
   "execution_count": 1,
   "id": "f69e5e0c",
   "metadata": {},
   "outputs": [],
   "source": [
    "import pandas as pd\n",
    "import numpy as np\n"
   ]
  },
  {
   "cell_type": "code",
   "execution_count": 2,
   "id": "3ae22da9",
   "metadata": {},
   "outputs": [],
   "source": [
    "class Node:\n",
    "    def __init__(self, label=None, feature=None, threshold=None, left=None, right=None):\n",
    "        self.label = label\n",
    "        self.feature = feature\n",
    "        self.threshold = threshold\n",
    "        self.left = left\n",
    "        self.right = right\n",
    "\n",
    "\n",
    "def cart(data, target_attr, attrs):\n",
    "\n",
    "    if len(np.unique(data[target_attr])) == 1:\n",
    "        return Node(label=data[target_attr].iloc[0])\n",
    "\n",
    "    if len(attrs) == 0:\n",
    "        return Node(label=data[target_attr].value_counts().idxmax())\n",
    "\n",
    "    best_feature, best_threshold, best_gini_index = None, None, None\n",
    "\n",
    "    for attr in attrs:\n",
    "        for threshold in np.unique(data[attr])[:-1]:\n",
    "            left_data = data[data[attr] <= threshold]\n",
    "            right_data = data[data[attr] > threshold]\n",
    "            gini_index = calc_gini_index(left_data[target_attr], right_data[target_attr])\n",
    "            if best_gini_index is None or gini_index < best_gini_index:\n",
    "                best_feature, best_threshold, best_gini_index = attr, threshold, gini_index\n",
    "\n",
    "    left_data = data[data[best_feature] <= best_threshold]\n",
    "    right_data = data[data[best_feature] > best_threshold]\n",
    "\n",
    "    left_node = cart(left_data, target_attr, [attr for attr in attrs if attr != best_feature])\n",
    "    right_node = cart(right_data, target_attr, [attr for attr in attrs if attr != best_feature])\n",
    "\n",
    "    return Node(feature=best_feature, threshold=best_threshold, left=left_node, right=right_node)\n",
    "\n",
    "\n",
    "def calc_gini_index(left_data, right_data):\n",
    "    n = len(left_data) + len(right_data)\n",
    "    left_weight = len(left_data) / n\n",
    "    right_weight = len(right_data) / n\n",
    "    left_gini = calc_gini(left_data)\n",
    "    right_gini = calc_gini(right_data)\n",
    "    return left_weight * left_gini + right_weight * right_gini\n",
    "\n",
    "\n",
    "def calc_gini(data):\n",
    "    gini = 1\n",
    "    for value in data.unique():\n",
    "        prob = len(data[data == value]) / len(data)\n",
    "        gini -= prob ** 2\n",
    "    return gini\n",
    "\n",
    "\n",
    "\n",
    "def print_tree(node, depth=0):\n",
    "    prefix = \"  \" * depth\n",
    "    if node.label is not None:\n",
    "        print(f\"{prefix}--> {node.label}\")\n",
    "    elif node.feature is not None:\n",
    "        print(f\"{prefix}{node.feature} <= {node.threshold}\")\n",
    "        print_tree(node.left, depth + 1)\n",
    "        print_tree(node.right, depth + 1)"
   ]
  },
  {
   "cell_type": "code",
   "execution_count": 4,
   "id": "5cef77bd",
   "metadata": {},
   "outputs": [
    {
     "name": "stdout",
     "output_type": "stream",
     "text": [
      "Age <= MiddleAge\n",
      "  --> Yes\n",
      "  Marital_Status <= No\n",
      "    Income <= High\n",
      "      --> No\n",
      "      Cred_rating <= Excellent\n",
      "        --> No\n",
      "        --> Yes\n",
      "    Cred_rating <= Excellent\n",
      "      Income <= Low\n",
      "        --> No\n",
      "        --> Yes\n",
      "      --> Yes\n"
     ]
    }
   ],
   "source": [
    "\n",
    "data = pd.read_excel(r\"../dataset/buy_car.xlsx\")\n",
    "target_attr = \"Buys_Car\"\n",
    "attrs = [attr for attr in data.columns if attr != target_attr]\n",
    "tree = cart(data, target_attr, attrs)\n",
    "print_tree(tree)\n"
   ]
  }
 ],
 "metadata": {
  "kernelspec": {
   "display_name": "Python 3 (ipykernel)",
   "language": "python",
   "name": "python3"
  },
  "language_info": {
   "codemirror_mode": {
    "name": "ipython",
    "version": 3
   },
   "file_extension": ".py",
   "mimetype": "text/x-python",
   "name": "python",
   "nbconvert_exporter": "python",
   "pygments_lexer": "ipython3",
   "version": "3.11.2"
  }
 },
 "nbformat": 4,
 "nbformat_minor": 5
}
