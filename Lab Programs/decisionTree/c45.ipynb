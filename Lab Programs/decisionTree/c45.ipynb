{
 "cells": [
  {
   "cell_type": "code",
   "execution_count": 5,
   "id": "c02b9391",
   "metadata": {},
   "outputs": [],
   "source": [
    "import pandas as pd\n",
    "import math\n",
    "\n",
    "df = pd.read_excel(\"../dataset/id3.xlsx\")\n",
    "column_head = list(df.columns)"
   ]
  },
  {
   "cell_type": "code",
   "execution_count": 6,
   "id": "1cd8324c",
   "metadata": {},
   "outputs": [],
   "source": [
    "def eval_entropy(positive_num, negative_num):\n",
    "    if positive_num == 0 or negative_num == 0:\n",
    "        return 0\n",
    "    elif positive_num == negative_num:\n",
    "        return 1\n",
    "    else:\n",
    "        total_num = positive_num + negative_num\n",
    "        return -((positive_num / total_num) * math.log2(positive_num / total_num)) - (\n",
    "                (negative_num / total_num) * math.log2(negative_num / total_num))"
   ]
  },
  {
   "cell_type": "code",
   "execution_count": 7,
   "id": "62a62e63",
   "metadata": {},
   "outputs": [],
   "source": [
    "def calc_entropy(col_head, data_frame, values):\n",
    "    for column_name in values:\n",
    "        if column_name == 'Entropy':\n",
    "            continue\n",
    "        values[column_name]['Gain'] = values['Entropy']\n",
    "        for value_name in values[column_name]['Values']:\n",
    "            positive_num = \\\n",
    "                data_frame[(data_frame[column_name] == value_name) & (data_frame[col_head[-1]] == 'YES')].shape[0]\n",
    "            negative_num = \\\n",
    "                data_frame[(data_frame[column_name] == value_name) & (data_frame[col_head[-1]] == 'NO')].shape[0]\n",
    "            entropy = eval_entropy(positive_num, negative_num)\n",
    "            values[column_name]['Values'][value_name] = entropy\n",
    "            values[column_name]['Gain'] = values[column_name]['Gain'] - (\n",
    "                    ((positive_num + negative_num) / data_frame.shape[0]) * entropy)\n",
    "            bruh = ((positive_num + negative_num) / data_frame.shape[0])\n",
    "            values[column_name]['Split_Info'] = -(bruh/math.log2(bruh))\n",
    "        values[column_name]['Gain_Ratio'] = values[column_name]['Gain']/values[column_name]['Split_Info']\n",
    "    return values"
   ]
  },
  {
   "cell_type": "code",
   "execution_count": 8,
   "id": "dc69e2ea",
   "metadata": {},
   "outputs": [],
   "source": [
    "def gen_possible_values(col_head, data_frame):\n",
    "    values = {}\n",
    "    for i in range(len(col_head) - 1):\n",
    "        unique_value_array = list(data_frame[col_head[i]].unique())\n",
    "        unique_value_dict = {'Values': {}}\n",
    "        for x in unique_value_array:\n",
    "            unique_value_dict['Values'].setdefault(x, 0)\n",
    "        unique_value_dict.setdefault('Gain', 0)\n",
    "        unique_value_dict.setdefault('Gain_Ratio', 0)\n",
    "        unique_value_dict.setdefault('Split_Info', 0)\n",
    "        values.setdefault(col_head[i], unique_value_dict)\n",
    "    entropy = eval_entropy(data_frame[data_frame[col_head[-1]] == 'YES'].shape[0], data_frame[data_frame[col_head[-1]] == 'NO'].shape[0])\n",
    "    values.setdefault('Entropy', entropy)\n",
    "    values = calc_entropy(col_head, data_frame, values)\n",
    "    return values"
   ]
  },
  {
   "cell_type": "code",
   "execution_count": 9,
   "id": "7f8eaa68",
   "metadata": {},
   "outputs": [
    {
     "name": "stdout",
     "output_type": "stream",
     "text": [
      "{'Outlook': {'Sunny': {'Temp': {'Hot': 'NO', 'Mild': {'Humidity': {'High': 'NO', 'Normal': 'YES'}}, 'Cool': 'YES'}}, 'Overcast': 'YES', 'Rain': {'Wind': {'Weak': 'YES', 'Strong': 'NO'}}}}\n"
     ]
    }
   ],
   "source": [
    "def gen_id3(col_head, data_frame):\n",
    "    values = gen_possible_values(col_head, data_frame)\n",
    "    max_gain_column_name = col_head[0]\n",
    "    for column_name in values:\n",
    "        if column_name == 'Entropy':\n",
    "            continue\n",
    "        if values[column_name]['Gain_Ratio'] > values[max_gain_column_name]['Gain_Ratio']:\n",
    "            max_gain_column_name = column_name\n",
    "    id3 = {}\n",
    "    sub_id3 = {}\n",
    "    for value_name in list(values[max_gain_column_name]['Values'].keys()):\n",
    "        if values[max_gain_column_name]['Values'][value_name] == 0:\n",
    "            if (\n",
    "                    data_frame[\n",
    "                        (data_frame[max_gain_column_name] == value_name) & (data_frame[col_head[-1]] == 'YES')].shape[\n",
    "                        0]) == 0:\n",
    "                sub_id3.setdefault(value_name, 'NO')\n",
    "            else:\n",
    "                sub_id3.setdefault(value_name, 'YES')\n",
    "        else:\n",
    "            col_head_copy = col_head.copy()\n",
    "            col_head_copy.remove(max_gain_column_name)\n",
    "            sub_id3.setdefault(value_name, gen_id3(col_head_copy,\n",
    "                                                   data_frame[data_frame[max_gain_column_name] == value_name].drop(\n",
    "                                                       max_gain_column_name, axis=1).drop_duplicates()))\n",
    "    id3.setdefault(max_gain_column_name, sub_id3)\n",
    "    return id3\n",
    "\n",
    "\n",
    "possible_values = gen_id3(column_head, df)\n",
    "print(possible_values)"
   ]
  }
 ],
 "metadata": {
  "kernelspec": {
   "display_name": "Python 3 (ipykernel)",
   "language": "python",
   "name": "python3"
  },
  "language_info": {
   "codemirror_mode": {
    "name": "ipython",
    "version": 3
   },
   "file_extension": ".py",
   "mimetype": "text/x-python",
   "name": "python",
   "nbconvert_exporter": "python",
   "pygments_lexer": "ipython3",
   "version": "3.11.2"
  }
 },
 "nbformat": 4,
 "nbformat_minor": 5
}
