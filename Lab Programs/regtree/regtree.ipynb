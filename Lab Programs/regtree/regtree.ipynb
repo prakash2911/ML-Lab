{
 "cells": [
  {
   "cell_type": "code",
   "execution_count": 1,
   "id": "ae3aad13",
   "metadata": {},
   "outputs": [
    {
     "name": "stdout",
     "output_type": "stream",
     "text": [
      "Hours Studied <= 3\n",
      "  --> 64.75\n",
      "  --> 86.67\n"
     ]
    }
   ],
   "source": [
    "import pandas as pd\n",
    "import numpy as np\n",
    "\n",
    "class Node:\n",
    "    def __init__(self, label=None, feature=None, threshold=None, left=None, right=None):\n",
    "        self.label = label\n",
    "        self.feature = feature\n",
    "        self.threshold = threshold\n",
    "        self.left = left\n",
    "        self.right = right\n",
    "\n",
    "def regression_tree(data, target_attr, attrs):\n",
    "    \n",
    "    if len(np.unique(data[target_attr])) == 1:\n",
    "        return Node(label=data[target_attr].iloc[0])\n",
    "\n",
    "    if len(attrs) == 0:\n",
    "        return Node(label=data[target_attr].mean())\n",
    "\n",
    "    best_feature, best_threshold, best_mse = None, None, None\n",
    "\n",
    "    for attr in attrs:\n",
    "        for threshold in np.unique(data[attr])[:-1]:\n",
    "            left_data = data[data[attr] <= threshold]\n",
    "            right_data = data[data[attr] > threshold]\n",
    "            mse = calc_mse(left_data[target_attr], right_data[target_attr])\n",
    "            if best_mse is None or mse < best_mse:\n",
    "                best_feature, best_threshold, best_mse = attr, threshold, mse\n",
    "\n",
    "    left_data = data[data[best_feature] <= best_threshold]\n",
    "    right_data = data[data[best_feature] > best_threshold]\n",
    "\n",
    "    left_node = regression_tree(left_data, target_attr, [attr for attr in attrs if attr != best_feature])\n",
    "    right_node = regression_tree(right_data, target_attr, [attr for attr in attrs if attr != best_feature])\n",
    "\n",
    "    return Node(feature=best_feature, threshold=best_threshold, left=left_node, right=right_node)\n",
    "\n",
    "\n",
    "def calc_mse(left_data, right_data):\n",
    "    n = len(left_data) + len(right_data)\n",
    "    left_weight = len(left_data) / n\n",
    "    right_weight = len(right_data) / n\n",
    "    left_mean = left_data.mean()\n",
    "    right_mean = right_data.mean()\n",
    "    return left_weight * ((left_data - left_mean) ** 2).sum() + right_weight * ((right_data - right_mean) ** 2).sum()\n",
    "\n",
    "\n",
    "def print_tree(node, depth=0):\n",
    "    prefix = \"  \" * depth\n",
    "    if node.label is not None:\n",
    "        print(f\"{prefix}--> {node.label:.2f}\")\n",
    "    elif node.feature is not None:\n",
    "        print(f\"{prefix}{node.feature} <= {node.threshold}\")\n",
    "        print_tree(node.left, depth + 1)\n",
    "        print_tree(node.right, depth + 1)\n",
    "\n",
    "\n",
    "data = pd.read_excel(\"hours_study.xlsx\")\n",
    "target_attr = \"Grade\"\n",
    "attrs = [attr for attr in data.columns if attr != target_attr]\n",
    "tree = regression_tree(data, target_attr, attrs)\n",
    "print_tree(tree)\n"
   ]
  }
 ],
 "metadata": {
  "kernelspec": {
   "display_name": "Python 3 (ipykernel)",
   "language": "python",
   "name": "python3"
  },
  "language_info": {
   "codemirror_mode": {
    "name": "ipython",
    "version": 3
   },
   "file_extension": ".py",
   "mimetype": "text/x-python",
   "name": "python",
   "nbconvert_exporter": "python",
   "pygments_lexer": "ipython3",
   "version": "3.9.13"
  }
 },
 "nbformat": 4,
 "nbformat_minor": 5
}
