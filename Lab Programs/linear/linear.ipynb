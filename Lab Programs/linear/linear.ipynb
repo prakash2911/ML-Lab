{
 "cells": [
  {
   "cell_type": "code",
   "execution_count": 3,
   "id": "ec15911c",
   "metadata": {},
   "outputs": [],
   "source": [
    "import pandas as pd\n",
    "data = pd.read_excel(\"../dataset/linear.xlsx\").values.tolist()\n",
    "pro_d = [[x[0], x[1], x[2], x[0]**2, x[1]**2, x[0]*x[1], x[0]*x[2], x[1]*x[2]] for x in data]\n",
    "sum_d = [sum(x) for x in zip(*pro_d)]\n",
    "n = len(data)\n",
    "sum_x1x1 = sum_d[3] - (sum_d[0] ** 2) / n\n",
    "sum_x2x2 = sum_d[4] - (sum_d[1] ** 2) / n\n",
    "sum_x1y = sum_d[6] - (sum_d[0] * sum_d[2]) / n\n",
    "sum_x2y = sum_d[7] - (sum_d[1] * sum_d[2]) / n\n",
    "sum_x1x2 = sum_d[5] - (sum_d[0] * sum_d[1]) / n\n",
    "denom = (sum_x1x1 * sum_x2x2) - (sum_x1x2 ** 2)\n",
    "b1 = ((sum_x2x2 * sum_x1y) - (sum_x1x2 * sum_x2y)) / denom\n",
    "b2 = ((sum_x1x1 * sum_x2y) - (sum_x1x2 * sum_x1y)) / denom\n",
    "a = (sum_d[2]/n) - b1*(sum_d[0]/n) - b2*(sum_d[1]/n)"
   ]
  },
  {
   "cell_type": "code",
   "execution_count": 4,
   "id": "fcea5e92",
   "metadata": {},
   "outputs": [
    {
     "name": "stdout",
     "output_type": "stream",
     "text": [
      "The value of y:  7.519310344827589\n"
     ]
    }
   ],
   "source": [
    "x1, x2 = int(input(\"Enter the value of x1: \")), int(input(\"Enter the value of x2: \"))\n",
    "print(\"The value of y: \", (a + b1*x1 + b2*x2))"
   ]
  }
 ],
 "metadata": {
  "kernelspec": {
   "display_name": "Python 3 (ipykernel)",
   "language": "python",
   "name": "python3"
  },
  "language_info": {
   "codemirror_mode": {
    "name": "ipython",
    "version": 3
   },
   "file_extension": ".py",
   "mimetype": "text/x-python",
   "name": "python",
   "nbconvert_exporter": "python",
   "pygments_lexer": "ipython3",
   "version": "3.11.2"
  }
 },
 "nbformat": 4,
 "nbformat_minor": 5
}
